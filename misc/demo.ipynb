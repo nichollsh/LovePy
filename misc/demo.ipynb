{
 "cells": [
  {
   "cell_type": "code",
   "execution_count": null,
   "metadata": {},
   "outputs": [
    {
     "data": {
      "text/plain": [
       "ComplexF64\u001b[90m (alias for \u001b[39m\u001b[90mComplex{Float64}\u001b[39m\u001b[90m)\u001b[39m"
      ]
     },
     "metadata": {},
     "output_type": "display_data"
    }
   ],
   "source": [
    "include(\"TidalLoveNumbers.jl\")\n",
    "using .TidalLoveNumbers\n",
    "\n",
    "# Get precision of Love number module (e.g., Float64, Double64, etc)\n",
    "prec = TidalLoveNumbers.prec;    # Type of real numbers\n",
    "precc = TidalLoveNumbers.precc;  # TYpe of complex numbers"
   ]
  },
  {
   "cell_type": "markdown",
   "metadata": {},
   "source": [
    "# Total Heating Rate"
   ]
  },
  {
   "cell_type": "code",
   "execution_count": 6,
   "metadata": {},
   "outputs": [],
   "source": [
    "# Rotational and orbital parameters\n",
    "ω = 5.31e-5     # Orbital frequency (2π / orbital period)\n",
    "ecc = 0.05      # Orbtial eccentricity\n",
    "\n",
    "# Internal structure:\n",
    "# First element is the innermost layer, last element is the outermost layer\n",
    "\n",
    "# Create a toy, homogeneous Enceladus-ish model\n",
    "ρ = prec[3300, 3300, 3300, 3300]  # Bulk density of each layer (kg m^-3)\n",
    "r = prec[0,                             # Radii of each boundary (km)\n",
    "         1,                             # Radius of CMB. If no core, set this to a 1km.\n",
    "         200,                           \n",
    "         230, \n",
    "         251.2] .* 1e3                  # Outer radius of solid surface \n",
    "μ = prec[60, 60, 60, 60] .* 1e9         # Elastic shear modulus of each layer (Pa)\n",
    "κ = prec[100, 100, 100, 100] .* 1e16    # Bulk modulus of each layer (set to a large number for incompressible material) (GPa)\n",
    "η = prec[1e18, 1e18, 1e18, 1e18]        # Shear viscosity of each layer (Pa s)  \n",
    "\n",
    "μc = 1im * μ*ω ./ (1im*ω .+ μ./η)       # Complex shear modulus for a Maxwell material. Change this for different rheologies.\n",
    "\n",
    "R = r[end]\n",
    "\n",
    "rr = expand_layers(r, nr=30)            # Expand the layers to a finer grid for numerical integration\n",
    "g = get_g(rr, ρ);                       # Get the gravitational acceleration on the fine grid"
   ]
  },
  {
   "cell_type": "code",
   "execution_count": 7,
   "metadata": {},
   "outputs": [
    {
     "name": "stdout",
     "output_type": "stream",
     "text": [
      "Total dissipation = 0.09481109698092167 GW\n",
      "Numerical error/deviation from homogeneous = 0.042053841562280425%\n"
     ]
    }
   ],
   "source": [
    "tidal_solution = calculate_y(rr, ρ, g, μc, κ)       # Get \"y-functions\"\n",
    "\n",
    "k2 = tidal_solution[5, end, end] - 1               # Get k2 Tidal Love Number \n",
    "\n",
    "Edot = get_bulk_heating(tidal_solution, ω, R, ecc) # Get total power output in watts\n",
    "println(\"Total dissipation = \", Edot/1e9, \" GW\")\n",
    "\n",
    "# Do sanity check/check for deviation from a homogeneous material\n",
    "k2_analytical = 1.5 / (1 + 19/2 * μc[end] / (ρ[end]*g[end,end]*R))\n",
    "println(\"Numerical error/deviation from homogeneous = \", abs(k2 - k2_analytical)/abs(k2_analytical)*100, \"%\")"
   ]
  },
  {
   "cell_type": "code",
   "execution_count": null,
   "metadata": {},
   "outputs": [
    {
     "name": "stdout",
     "output_type": "stream",
     "text": [
      "Total dissipation from heating profile = 0.09415744903262571 GW\n",
      "Profile total error = 0.6894213537340422%\n"
     ]
    }
   ],
   "source": [
    "Edot_vol = get_heating_profile(tidal_solution, rr, ρ, g, μc, κ, ω, ecc, res=10.0) # Get volumetric heating profile (W/m^3)\n",
    "Edot_mass = Edot_vol ./ ρ # Convert to mass heating rate (W/kg)\n",
    "\n",
    "# Sanity check - total power output should be the same as above\n",
    "Edot_total = 0.0\n",
    "for i in 1:length(r)-1\n",
    "    layer_mass = 4/3 * π * (r[i+1]^3 - r[i]^3) * ρ[i]\n",
    "    Edot_total += Edot_mass[i] * layer_mass\n",
    "end\n",
    "println(\"Total dissipation from heating profile = \", Edot_total/1e9, \" GW\")\n",
    "println(\"Profile total error = \", abs(Edot_total - Edot)/abs(Edot)*100, \"%\")\n"
   ]
  }
 ],
 "metadata": {
  "kernelspec": {
   "display_name": "Julia 1.9.0",
   "language": "julia",
   "name": "julia-1.9"
  },
  "language_info": {
   "file_extension": ".jl",
   "mimetype": "application/julia",
   "name": "julia",
   "version": "1.9.0"
  }
 },
 "nbformat": 4,
 "nbformat_minor": 2
}
